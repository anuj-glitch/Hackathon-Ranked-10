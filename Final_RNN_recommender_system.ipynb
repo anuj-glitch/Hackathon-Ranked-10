{
  "nbformat": 4,
  "nbformat_minor": 0,
  "metadata": {
    "kernelspec": {
      "display_name": "Python 3",
      "language": "python",
      "name": "python3"
    },
    "language_info": {
      "codemirror_mode": {
        "name": "ipython",
        "version": 3
      },
      "file_extension": ".py",
      "mimetype": "text/x-python",
      "name": "python",
      "nbconvert_exporter": "python",
      "pygments_lexer": "ipython3",
      "version": "3.7.7"
    },
    "colab": {
      "name": "recommender_system_3.ipynb",
      "provenance": [],
      "collapsed_sections": []
    },
    "accelerator": "GPU"
  },
  "cells": [
    {
      "cell_type": "code",
      "metadata": {
        "id": "GuwA3DfFWtBM",
        "colab_type": "code",
        "colab": {
          "base_uri": "https://localhost:8080/",
          "height": 54
        },
        "outputId": "7a852eae-c4a3-4859-dddf-9295e996c46b"
      },
      "source": [
        "from google.colab import drive\n",
        "drive.mount('/content/drive')"
      ],
      "execution_count": 69,
      "outputs": [
        {
          "output_type": "stream",
          "text": [
            "Drive already mounted at /content/drive; to attempt to forcibly remount, call drive.mount(\"/content/drive\", force_remount=True).\n"
          ],
          "name": "stdout"
        }
      ]
    },
    {
      "cell_type": "code",
      "metadata": {
        "id": "iFCHaRNEF4eT",
        "colab_type": "code",
        "colab": {}
      },
      "source": [
        "# Load Libraries\n",
        "import pandas as pd\n",
        "import numpy as np\n",
        "from sklearn.model_selection import train_test_split\n",
        "from sklearn.preprocessing import LabelEncoder\n",
        "from keras.preprocessing.text import Tokenizer\n",
        "from keras.preprocessing.sequence import pad_sequences\n",
        "from keras.models import Model\n",
        "from keras.layers import Dense,Embedding,LSTM,Dropout,Bidirectional,Input,BatchNormalization\n",
        "from keras.optimizers import Adam\n",
        "from keras.callbacks import EarlyStopping,ModelCheckpoint\n",
        "\n",
        "# pd.options.display.max_rows\n",
        "# pd.set_option('display.max_colwidth', -1)"
      ],
      "execution_count": 70,
      "outputs": []
    },
    {
      "cell_type": "code",
      "metadata": {
        "id": "2VJ0bvyYF4fE",
        "colab_type": "code",
        "colab": {}
      },
      "source": [
        "#Load train and test dataset\n",
        "train = pd.read_csv('/content/drive/My Drive/ml/recommendation/train/train.csv')\n",
        "test = pd.read_csv('/content/drive/My Drive/ml/recommendation/test/test.csv')\n",
        "challenges = pd.read_csv('/content/drive/My Drive/ml/recommendation/train/challenge_data.csv')\n",
        "#train[:33]"
      ],
      "execution_count": 71,
      "outputs": []
    },
    {
      "cell_type": "code",
      "metadata": {
        "id": "VIOzBOMWNmyi",
        "colab_type": "code",
        "colab": {
          "base_uri": "https://localhost:8080/",
          "height": 34
        },
        "outputId": "e7d25dbe-4543-42b8-f704-ba5736985af7"
      },
      "source": [
        "train.shape"
      ],
      "execution_count": 72,
      "outputs": [
        {
          "output_type": "execute_result",
          "data": {
            "text/plain": [
              "(903916, 4)"
            ]
          },
          "metadata": {
            "tags": []
          },
          "execution_count": 72
        }
      ]
    },
    {
      "cell_type": "code",
      "metadata": {
        "id": "Nq_9t28nNmtA",
        "colab_type": "code",
        "colab": {
          "base_uri": "https://localhost:8080/",
          "height": 34
        },
        "outputId": "4164c980-f1e0-4df1-ba78-90200e9810b7"
      },
      "source": [
        "# how many unique users\n",
        "train.user_id.nunique()"
      ],
      "execution_count": 73,
      "outputs": [
        {
          "output_type": "execute_result",
          "data": {
            "text/plain": [
              "69532"
            ]
          },
          "metadata": {
            "tags": []
          },
          "execution_count": 73
        }
      ]
    },
    {
      "cell_type": "code",
      "metadata": {
        "id": "rRB9y7MdNmnx",
        "colab_type": "code",
        "colab": {
          "base_uri": "https://localhost:8080/",
          "height": 34
        },
        "outputId": "f1635080-c181-4131-8cc7-f88969acbd50"
      },
      "source": [
        "# how many unique  challenges\n",
        "train.challenge.nunique()"
      ],
      "execution_count": 74,
      "outputs": [
        {
          "output_type": "execute_result",
          "data": {
            "text/plain": [
              "5348"
            ]
          },
          "metadata": {
            "tags": []
          },
          "execution_count": 74
        }
      ]
    },
    {
      "cell_type": "code",
      "metadata": {
        "id": "VaJTlzoTMLpD",
        "colab_type": "code",
        "colab": {
          "base_uri": "https://localhost:8080/",
          "height": 204
        },
        "outputId": "414e3d08-12f5-4279-a7a7-386a6b784da0"
      },
      "source": [
        "train.head()"
      ],
      "execution_count": 75,
      "outputs": [
        {
          "output_type": "execute_result",
          "data": {
            "text/html": [
              "<div>\n",
              "<style scoped>\n",
              "    .dataframe tbody tr th:only-of-type {\n",
              "        vertical-align: middle;\n",
              "    }\n",
              "\n",
              "    .dataframe tbody tr th {\n",
              "        vertical-align: top;\n",
              "    }\n",
              "\n",
              "    .dataframe thead th {\n",
              "        text-align: right;\n",
              "    }\n",
              "</style>\n",
              "<table border=\"1\" class=\"dataframe\">\n",
              "  <thead>\n",
              "    <tr style=\"text-align: right;\">\n",
              "      <th></th>\n",
              "      <th>user_sequence</th>\n",
              "      <th>user_id</th>\n",
              "      <th>challenge_sequence</th>\n",
              "      <th>challenge</th>\n",
              "    </tr>\n",
              "  </thead>\n",
              "  <tbody>\n",
              "    <tr>\n",
              "      <th>0</th>\n",
              "      <td>4576_1</td>\n",
              "      <td>4576</td>\n",
              "      <td>1</td>\n",
              "      <td>CI23714</td>\n",
              "    </tr>\n",
              "    <tr>\n",
              "      <th>1</th>\n",
              "      <td>4576_2</td>\n",
              "      <td>4576</td>\n",
              "      <td>2</td>\n",
              "      <td>CI23855</td>\n",
              "    </tr>\n",
              "    <tr>\n",
              "      <th>2</th>\n",
              "      <td>4576_3</td>\n",
              "      <td>4576</td>\n",
              "      <td>3</td>\n",
              "      <td>CI24917</td>\n",
              "    </tr>\n",
              "    <tr>\n",
              "      <th>3</th>\n",
              "      <td>4576_4</td>\n",
              "      <td>4576</td>\n",
              "      <td>4</td>\n",
              "      <td>CI23663</td>\n",
              "    </tr>\n",
              "    <tr>\n",
              "      <th>4</th>\n",
              "      <td>4576_5</td>\n",
              "      <td>4576</td>\n",
              "      <td>5</td>\n",
              "      <td>CI23933</td>\n",
              "    </tr>\n",
              "  </tbody>\n",
              "</table>\n",
              "</div>"
            ],
            "text/plain": [
              "  user_sequence  user_id  challenge_sequence challenge\n",
              "0        4576_1     4576                   1   CI23714\n",
              "1        4576_2     4576                   2   CI23855\n",
              "2        4576_3     4576                   3   CI24917\n",
              "3        4576_4     4576                   4   CI23663\n",
              "4        4576_5     4576                   5   CI23933"
            ]
          },
          "metadata": {
            "tags": []
          },
          "execution_count": 75
        }
      ]
    },
    {
      "cell_type": "code",
      "metadata": {
        "id": "Qx9w9I86MMD6",
        "colab_type": "code",
        "colab": {}
      },
      "source": [
        "def apk(actual, predicted, k=3):\n",
        "  \n",
        "    actual = list(actual)\n",
        "    predicted = list(predicted)\n",
        "    \n",
        "    if len(predicted)>k:\n",
        "        predicted = predicted[:k]\n",
        "\n",
        "    score = 0.0\n",
        "    num_hits = 0.0\n",
        "\n",
        "    for i,p in enumerate(predicted):\n",
        "        if p in actual and p not in predicted[:i]:\n",
        "            num_hits += 1.0\n",
        "            score += num_hits / (i+1.0)\n",
        "            \n",
        "    if not actual:\n",
        "        return 0.0\n",
        "\n",
        "    return score / min(len(actual), k)\n",
        "\n",
        "def mapk(actual, predicted, k=3):\n",
        "\n",
        "    return np.mean([apk(a,p,k) for a,p in zip(actual, predicted)])"
      ],
      "execution_count": 76,
      "outputs": []
    },
    {
      "cell_type": "code",
      "metadata": {
        "id": "COjzimmnNtr1",
        "colab_type": "code",
        "colab": {
          "base_uri": "https://localhost:8080/",
          "height": 224
        },
        "outputId": "36df97a0-3ab7-414a-d801-82660943c3db"
      },
      "source": [
        "challenges.head()"
      ],
      "execution_count": 77,
      "outputs": [
        {
          "output_type": "execute_result",
          "data": {
            "text/html": [
              "<div>\n",
              "<style scoped>\n",
              "    .dataframe tbody tr th:only-of-type {\n",
              "        vertical-align: middle;\n",
              "    }\n",
              "\n",
              "    .dataframe tbody tr th {\n",
              "        vertical-align: top;\n",
              "    }\n",
              "\n",
              "    .dataframe thead th {\n",
              "        text-align: right;\n",
              "    }\n",
              "</style>\n",
              "<table border=\"1\" class=\"dataframe\">\n",
              "  <thead>\n",
              "    <tr style=\"text-align: right;\">\n",
              "      <th></th>\n",
              "      <th>challenge_ID</th>\n",
              "      <th>programming_language</th>\n",
              "      <th>challenge_series_ID</th>\n",
              "      <th>total_submissions</th>\n",
              "      <th>publish_date</th>\n",
              "      <th>author_ID</th>\n",
              "      <th>author_gender</th>\n",
              "      <th>author_org_ID</th>\n",
              "      <th>category_id</th>\n",
              "    </tr>\n",
              "  </thead>\n",
              "  <tbody>\n",
              "    <tr>\n",
              "      <th>0</th>\n",
              "      <td>CI23478</td>\n",
              "      <td>2</td>\n",
              "      <td>SI2445</td>\n",
              "      <td>37.0</td>\n",
              "      <td>06-05-2006</td>\n",
              "      <td>AI563576</td>\n",
              "      <td>M</td>\n",
              "      <td>AOI100001</td>\n",
              "      <td>NaN</td>\n",
              "    </tr>\n",
              "    <tr>\n",
              "      <th>1</th>\n",
              "      <td>CI23479</td>\n",
              "      <td>2</td>\n",
              "      <td>SI2435</td>\n",
              "      <td>48.0</td>\n",
              "      <td>17-10-2002</td>\n",
              "      <td>AI563577</td>\n",
              "      <td>M</td>\n",
              "      <td>AOI100002</td>\n",
              "      <td>32.0</td>\n",
              "    </tr>\n",
              "    <tr>\n",
              "      <th>2</th>\n",
              "      <td>CI23480</td>\n",
              "      <td>1</td>\n",
              "      <td>SI2435</td>\n",
              "      <td>15.0</td>\n",
              "      <td>16-10-2002</td>\n",
              "      <td>AI563578</td>\n",
              "      <td>M</td>\n",
              "      <td>AOI100003</td>\n",
              "      <td>NaN</td>\n",
              "    </tr>\n",
              "    <tr>\n",
              "      <th>3</th>\n",
              "      <td>CI23481</td>\n",
              "      <td>1</td>\n",
              "      <td>SI2710</td>\n",
              "      <td>236.0</td>\n",
              "      <td>19-09-2003</td>\n",
              "      <td>AI563579</td>\n",
              "      <td>M</td>\n",
              "      <td>AOI100004</td>\n",
              "      <td>70.0</td>\n",
              "    </tr>\n",
              "    <tr>\n",
              "      <th>4</th>\n",
              "      <td>CI23482</td>\n",
              "      <td>2</td>\n",
              "      <td>SI2440</td>\n",
              "      <td>137.0</td>\n",
              "      <td>21-03-2002</td>\n",
              "      <td>AI563580</td>\n",
              "      <td>M</td>\n",
              "      <td>AOI100005</td>\n",
              "      <td>NaN</td>\n",
              "    </tr>\n",
              "  </tbody>\n",
              "</table>\n",
              "</div>"
            ],
            "text/plain": [
              "  challenge_ID  programming_language  ... author_org_ID  category_id\n",
              "0      CI23478                     2  ...     AOI100001          NaN\n",
              "1      CI23479                     2  ...     AOI100002         32.0\n",
              "2      CI23480                     1  ...     AOI100003          NaN\n",
              "3      CI23481                     1  ...     AOI100004         70.0\n",
              "4      CI23482                     2  ...     AOI100005          NaN\n",
              "\n",
              "[5 rows x 9 columns]"
            ]
          },
          "metadata": {
            "tags": []
          },
          "execution_count": 77
        }
      ]
    },
    {
      "cell_type": "code",
      "metadata": {
        "id": "VXbWLzkfF4fc",
        "colab_type": "code",
        "colab": {
          "base_uri": "https://localhost:8080/",
          "height": 204
        },
        "outputId": "94a7e382-3462-4f28-d215-eaec4476e496"
      },
      "source": [
        "# Create labels\n",
        "label = train[train.challenge_sequence > 10][['user_id','challenge']]\n",
        "label.rename(columns={'challenge':'label'},inplace=True)\n",
        "label.head()"
      ],
      "execution_count": 78,
      "outputs": [
        {
          "output_type": "execute_result",
          "data": {
            "text/html": [
              "<div>\n",
              "<style scoped>\n",
              "    .dataframe tbody tr th:only-of-type {\n",
              "        vertical-align: middle;\n",
              "    }\n",
              "\n",
              "    .dataframe tbody tr th {\n",
              "        vertical-align: top;\n",
              "    }\n",
              "\n",
              "    .dataframe thead th {\n",
              "        text-align: right;\n",
              "    }\n",
              "</style>\n",
              "<table border=\"1\" class=\"dataframe\">\n",
              "  <thead>\n",
              "    <tr style=\"text-align: right;\">\n",
              "      <th></th>\n",
              "      <th>user_id</th>\n",
              "      <th>label</th>\n",
              "    </tr>\n",
              "  </thead>\n",
              "  <tbody>\n",
              "    <tr>\n",
              "      <th>10</th>\n",
              "      <td>4576</td>\n",
              "      <td>CI24958</td>\n",
              "    </tr>\n",
              "    <tr>\n",
              "      <th>11</th>\n",
              "      <td>4576</td>\n",
              "      <td>CI23667</td>\n",
              "    </tr>\n",
              "    <tr>\n",
              "      <th>12</th>\n",
              "      <td>4576</td>\n",
              "      <td>CI23691</td>\n",
              "    </tr>\n",
              "    <tr>\n",
              "      <th>23</th>\n",
              "      <td>4580</td>\n",
              "      <td>CI24915</td>\n",
              "    </tr>\n",
              "    <tr>\n",
              "      <th>24</th>\n",
              "      <td>4580</td>\n",
              "      <td>CI25727</td>\n",
              "    </tr>\n",
              "  </tbody>\n",
              "</table>\n",
              "</div>"
            ],
            "text/plain": [
              "    user_id    label\n",
              "10     4576  CI24958\n",
              "11     4576  CI23667\n",
              "12     4576  CI23691\n",
              "23     4580  CI24915\n",
              "24     4580  CI25727"
            ]
          },
          "metadata": {
            "tags": []
          },
          "execution_count": 78
        }
      ]
    },
    {
      "cell_type": "code",
      "metadata": {
        "id": "vY-jyzBRF4f6",
        "colab_type": "code",
        "colab": {}
      },
      "source": [
        "# Treat the sequence of challenges as text\n",
        "df = train[train.challenge_sequence <= 10].groupby('user_id').challenge.aggregate(lambda x: ' '.join(x)).reset_index()\n"
      ],
      "execution_count": 79,
      "outputs": []
    },
    {
      "cell_type": "code",
      "metadata": {
        "id": "Rjug37qcF4gG",
        "colab_type": "code",
        "colab": {
          "base_uri": "https://localhost:8080/",
          "height": 204
        },
        "outputId": "2905d7bf-8525-4c42-ac5c-5f987544afc0"
      },
      "source": [
        "# Merge Labels\n",
        "df = df.merge(label)\n",
        "df.head()"
      ],
      "execution_count": 80,
      "outputs": [
        {
          "output_type": "execute_result",
          "data": {
            "text/html": [
              "<div>\n",
              "<style scoped>\n",
              "    .dataframe tbody tr th:only-of-type {\n",
              "        vertical-align: middle;\n",
              "    }\n",
              "\n",
              "    .dataframe tbody tr th {\n",
              "        vertical-align: top;\n",
              "    }\n",
              "\n",
              "    .dataframe thead th {\n",
              "        text-align: right;\n",
              "    }\n",
              "</style>\n",
              "<table border=\"1\" class=\"dataframe\">\n",
              "  <thead>\n",
              "    <tr style=\"text-align: right;\">\n",
              "      <th></th>\n",
              "      <th>user_id</th>\n",
              "      <th>challenge</th>\n",
              "      <th>label</th>\n",
              "    </tr>\n",
              "  </thead>\n",
              "  <tbody>\n",
              "    <tr>\n",
              "      <th>0</th>\n",
              "      <td>4576</td>\n",
              "      <td>CI23714 CI23855 CI24917 CI23663 CI23933 CI2513...</td>\n",
              "      <td>CI24958</td>\n",
              "    </tr>\n",
              "    <tr>\n",
              "      <th>1</th>\n",
              "      <td>4576</td>\n",
              "      <td>CI23714 CI23855 CI24917 CI23663 CI23933 CI2513...</td>\n",
              "      <td>CI23667</td>\n",
              "    </tr>\n",
              "    <tr>\n",
              "      <th>2</th>\n",
              "      <td>4576</td>\n",
              "      <td>CI23714 CI23855 CI24917 CI23663 CI23933 CI2513...</td>\n",
              "      <td>CI23691</td>\n",
              "    </tr>\n",
              "    <tr>\n",
              "      <th>3</th>\n",
              "      <td>4580</td>\n",
              "      <td>CI23663 CI23855 CI23933 CI23975 CI24530 CI2371...</td>\n",
              "      <td>CI24915</td>\n",
              "    </tr>\n",
              "    <tr>\n",
              "      <th>4</th>\n",
              "      <td>4580</td>\n",
              "      <td>CI23663 CI23855 CI23933 CI23975 CI24530 CI2371...</td>\n",
              "      <td>CI25727</td>\n",
              "    </tr>\n",
              "  </tbody>\n",
              "</table>\n",
              "</div>"
            ],
            "text/plain": [
              "   user_id                                          challenge    label\n",
              "0     4576  CI23714 CI23855 CI24917 CI23663 CI23933 CI2513...  CI24958\n",
              "1     4576  CI23714 CI23855 CI24917 CI23663 CI23933 CI2513...  CI23667\n",
              "2     4576  CI23714 CI23855 CI24917 CI23663 CI23933 CI2513...  CI23691\n",
              "3     4580  CI23663 CI23855 CI23933 CI23975 CI24530 CI2371...  CI24915\n",
              "4     4580  CI23663 CI23855 CI23933 CI23975 CI24530 CI2371...  CI25727"
            ]
          },
          "metadata": {
            "tags": []
          },
          "execution_count": 80
        }
      ]
    },
    {
      "cell_type": "code",
      "metadata": {
        "id": "ds0nKsnoF4gZ",
        "colab_type": "code",
        "colab": {}
      },
      "source": [
        "# Validation split for early stopping\n",
        "df_train, df_validation = train_test_split(df.sample(frac=1,random_state=42), test_size=0.001, random_state=42)"
      ],
      "execution_count": 81,
      "outputs": []
    },
    {
      "cell_type": "code",
      "metadata": {
        "id": "GxPratPTF4hI",
        "colab_type": "code",
        "colab": {}
      },
      "source": [
        "# Encode challenges\n",
        "encoder = LabelEncoder()\n",
        "encoder.fit(challenges['challenge_ID'])\n",
        "df_train['id_encoded'] = encoder.transform(df_train.label)\n",
        "df_validation['id_encoded'] = encoder.transform(df_validation.label)"
      ],
      "execution_count": 82,
      "outputs": []
    },
    {
      "cell_type": "code",
      "metadata": {
        "id": "1Y2TtKUPF4hg",
        "colab_type": "code",
        "colab": {
          "base_uri": "https://localhost:8080/",
          "height": 204
        },
        "outputId": "3d5b059e-21b8-4cb8-c739-6097d17faece"
      },
      "source": [
        "# Tokenize text\n",
        "tokenizer = Tokenizer()\n",
        "tokenizer.fit_on_texts(df_train['challenge'])\n",
        "df_train.head()"
      ],
      "execution_count": 83,
      "outputs": [
        {
          "output_type": "execute_result",
          "data": {
            "text/html": [
              "<div>\n",
              "<style scoped>\n",
              "    .dataframe tbody tr th:only-of-type {\n",
              "        vertical-align: middle;\n",
              "    }\n",
              "\n",
              "    .dataframe tbody tr th {\n",
              "        vertical-align: top;\n",
              "    }\n",
              "\n",
              "    .dataframe thead th {\n",
              "        text-align: right;\n",
              "    }\n",
              "</style>\n",
              "<table border=\"1\" class=\"dataframe\">\n",
              "  <thead>\n",
              "    <tr style=\"text-align: right;\">\n",
              "      <th></th>\n",
              "      <th>user_id</th>\n",
              "      <th>challenge</th>\n",
              "      <th>label</th>\n",
              "      <th>id_encoded</th>\n",
              "    </tr>\n",
              "  </thead>\n",
              "  <tbody>\n",
              "    <tr>\n",
              "      <th>156816</th>\n",
              "      <td>86823</td>\n",
              "      <td>CI23922 CI24230 CI24917 CI23933 CI23769 CI2495...</td>\n",
              "      <td>CI26076</td>\n",
              "      <td>2598</td>\n",
              "    </tr>\n",
              "    <tr>\n",
              "      <th>167</th>\n",
              "      <td>4675</td>\n",
              "      <td>CI23663 CI23933 CI24915 CI24958 CI24944 CI2605...</td>\n",
              "      <td>CI24527</td>\n",
              "      <td>1049</td>\n",
              "    </tr>\n",
              "    <tr>\n",
              "      <th>7579</th>\n",
              "      <td>8561</td>\n",
              "      <td>CI27785 CI27786 CI27788 CI27789 CI27790 CI2779...</td>\n",
              "      <td>CI27797</td>\n",
              "      <td>4319</td>\n",
              "    </tr>\n",
              "    <tr>\n",
              "      <th>203862</th>\n",
              "      <td>111361</td>\n",
              "      <td>CI26159 CI26210 CI26248 CI26216 CI26217 CI2621...</td>\n",
              "      <td>CI26212</td>\n",
              "      <td>2734</td>\n",
              "    </tr>\n",
              "    <tr>\n",
              "      <th>190895</th>\n",
              "      <td>104618</td>\n",
              "      <td>CI26164 CI26904 CI26926 CI26930 CI26931 CI2692...</td>\n",
              "      <td>CI26856</td>\n",
              "      <td>3378</td>\n",
              "    </tr>\n",
              "  </tbody>\n",
              "</table>\n",
              "</div>"
            ],
            "text/plain": [
              "        user_id  ... id_encoded\n",
              "156816    86823  ...       2598\n",
              "167        4675  ...       1049\n",
              "7579       8561  ...       4319\n",
              "203862   111361  ...       2734\n",
              "190895   104618  ...       3378\n",
              "\n",
              "[5 rows x 4 columns]"
            ]
          },
          "metadata": {
            "tags": []
          },
          "execution_count": 83
        }
      ]
    },
    {
      "cell_type": "code",
      "metadata": {
        "id": "jksu34p_F4hr",
        "colab_type": "code",
        "colab": {}
      },
      "source": [
        "# Constants\n",
        "NB_WORDS = len(tokenizer.word_index)\n",
        "MAX_SEQUENCE_LENGTH = 10\n",
        "N_CATEGORIES = challenges.shape[0]"
      ],
      "execution_count": 84,
      "outputs": []
    },
    {
      "cell_type": "code",
      "metadata": {
        "id": "V2I4beLuF4iK",
        "colab_type": "code",
        "colab": {}
      },
      "source": [
        "# Create sequences\n",
        "sequences_train = tokenizer.texts_to_sequences(df_train['challenge'])\n",
        "sequences_validation = tokenizer.texts_to_sequences(df_validation['challenge'])"
      ],
      "execution_count": 85,
      "outputs": []
    },
    {
      "cell_type": "code",
      "metadata": {
        "id": "7zH8AZ0IF4ia",
        "colab_type": "code",
        "colab": {
          "base_uri": "https://localhost:8080/",
          "height": 34
        },
        "outputId": "e8f433ec-214e-495e-a96d-b177e9cd1517"
      },
      "source": [
        "# Pad sequences\n",
        "x_train = pad_sequences(sequences_train, maxlen=MAX_SEQUENCE_LENGTH, padding='post', truncating='post')\n",
        "x_validation = pad_sequences(sequences_validation, maxlen=MAX_SEQUENCE_LENGTH, padding='post', truncating='post')\n",
        "x_train[0]"
      ],
      "execution_count": 86,
      "outputs": [
        {
          "output_type": "execute_result",
          "data": {
            "text/plain": [
              "array([179,  58,   2,   6,  13,   5,  59, 310, 377, 781], dtype=int32)"
            ]
          },
          "metadata": {
            "tags": []
          },
          "execution_count": 86
        }
      ]
    },
    {
      "cell_type": "code",
      "metadata": {
        "id": "ZxrFZcLVF4il",
        "colab_type": "code",
        "colab": {}
      },
      "source": [
        "# Set Labels\n",
        "y_train = df_train['id_encoded'].values\n",
        "y_validation= df_validation['id_encoded'].values"
      ],
      "execution_count": 87,
      "outputs": []
    },
    {
      "cell_type": "code",
      "metadata": {
        "id": "7aV1E1QCF4i6",
        "colab_type": "code",
        "colab": {}
      },
      "source": [
        "# NN architecture\n",
        "def get_model(path='',lr=0.001):\n",
        "    adam = Adam(lr=lr)\n",
        "    inp = Input(shape=(MAX_SEQUENCE_LENGTH, ))\n",
        "    x = Embedding(NB_WORDS,512)(inp)\n",
        "    x = BatchNormalization()(x)\n",
        "    x = Bidirectional(LSTM(512, dropout=0.1, recurrent_dropout=0.1))(x)\n",
        "    x = Dropout(0.4)(x)\n",
        "    x = Dense(N_CATEGORIES, activation=\"softmax\")(x)\n",
        "    model = Model(inputs=inp, outputs=x)\n",
        "    if path != '':\n",
        "        model.load_weights(path)\n",
        "    model.compile(loss='sparse_categorical_crossentropy', optimizer=adam, metrics=['accuracy'])\n",
        "    return model"
      ],
      "execution_count": 88,
      "outputs": []
    },
    {
      "cell_type": "code",
      "metadata": {
        "id": "L10BHgndF4jE",
        "colab_type": "code",
        "colab": {}
      },
      "source": [
        "# Initialize the model\n",
        "model = get_model()"
      ],
      "execution_count": 89,
      "outputs": []
    },
    {
      "cell_type": "code",
      "metadata": {
        "id": "U4Jw67VFF4jW",
        "colab_type": "code",
        "colab": {}
      },
      "source": [
        "# Model callbacks\n",
        "path = 'best_model_weights'\n",
        "es_callback = EarlyStopping(monitor=\"val_loss\", patience=4)\n",
        "mc_callback = ModelCheckpoint('{}.hdf5'.format(path), monitor='val_loss',\n",
        "                              verbose=2, save_best_only=True, save_weights_only=True,\n",
        "                              mode='auto', period=1)\n",
        "callbacks = [es_callback,mc_callback]"
      ],
      "execution_count": 90,
      "outputs": []
    },
    {
      "cell_type": "code",
      "metadata": {
        "id": "1_rDKMayF4j7",
        "colab_type": "code",
        "colab": {
          "base_uri": "https://localhost:8080/",
          "height": 581
        },
        "outputId": "c7836352-a860-4c2c-9e46-0fc0edbb0c97"
      },
      "source": [
        "# Fit the model\n",
        "model.fit(x_train,\n",
        "          y_train,\n",
        "          epochs=100,\n",
        "          batch_size=1024,\n",
        "          validation_data=(x_validation, y_validation),\n",
        "          callbacks = callbacks\n",
        ")"
      ],
      "execution_count": 91,
      "outputs": [
        {
          "output_type": "stream",
          "text": [
            "/usr/local/lib/python3.6/dist-packages/tensorflow/python/framework/indexed_slices.py:434: UserWarning: Converting sparse IndexedSlices to a dense Tensor of unknown shape. This may consume a large amount of memory.\n",
            "  \"Converting sparse IndexedSlices to a dense Tensor of unknown shape. \"\n"
          ],
          "name": "stderr"
        },
        {
          "output_type": "stream",
          "text": [
            "Train on 208387 samples, validate on 209 samples\n",
            "Epoch 1/100\n",
            "208387/208387 [==============================] - 49s 237us/step - loss: 5.5051 - accuracy: 0.0507 - val_loss: 5.5218 - val_accuracy: 0.0335\n",
            "\n",
            "Epoch 00001: val_loss improved from inf to 5.52185, saving model to best_model_weights.hdf5\n",
            "Epoch 2/100\n",
            "208387/208387 [==============================] - 48s 231us/step - loss: 4.4251 - accuracy: 0.0920 - val_loss: 4.4908 - val_accuracy: 0.0813\n",
            "\n",
            "Epoch 00002: val_loss improved from 5.52185 to 4.49079, saving model to best_model_weights.hdf5\n",
            "Epoch 3/100\n",
            "208387/208387 [==============================] - 48s 231us/step - loss: 3.9611 - accuracy: 0.1194 - val_loss: 4.1154 - val_accuracy: 0.1005\n",
            "\n",
            "Epoch 00003: val_loss improved from 4.49079 to 4.11539, saving model to best_model_weights.hdf5\n",
            "Epoch 4/100\n",
            "208387/208387 [==============================] - 48s 231us/step - loss: 3.6354 - accuracy: 0.1387 - val_loss: 4.2177 - val_accuracy: 0.0909\n",
            "\n",
            "Epoch 00004: val_loss did not improve from 4.11539\n",
            "Epoch 5/100\n",
            "208387/208387 [==============================] - 48s 231us/step - loss: 3.4031 - accuracy: 0.1542 - val_loss: 4.2438 - val_accuracy: 0.0718\n",
            "\n",
            "Epoch 00005: val_loss did not improve from 4.11539\n",
            "Epoch 6/100\n",
            "208387/208387 [==============================] - 48s 231us/step - loss: 3.2305 - accuracy: 0.1644 - val_loss: 4.3133 - val_accuracy: 0.0335\n",
            "\n",
            "Epoch 00006: val_loss did not improve from 4.11539\n",
            "Epoch 7/100\n",
            "208387/208387 [==============================] - 48s 231us/step - loss: 3.0986 - accuracy: 0.1730 - val_loss: 4.4369 - val_accuracy: 0.0431\n",
            "\n",
            "Epoch 00007: val_loss did not improve from 4.11539\n"
          ],
          "name": "stdout"
        },
        {
          "output_type": "execute_result",
          "data": {
            "text/plain": [
              "<keras.callbacks.callbacks.History at 0x7f0239edc940>"
            ]
          },
          "metadata": {
            "tags": []
          },
          "execution_count": 91
        }
      ]
    },
    {
      "cell_type": "code",
      "metadata": {
        "id": "ZXxSKvGFF4kR",
        "colab_type": "code",
        "colab": {}
      },
      "source": [
        "# Load best weights\n",
        "model = get_model('{}.hdf5'.format(path))"
      ],
      "execution_count": 92,
      "outputs": []
    },
    {
      "cell_type": "code",
      "metadata": {
        "id": "oxgFelNiF4kb",
        "colab_type": "code",
        "colab": {
          "base_uri": "https://localhost:8080/",
          "height": 34
        },
        "outputId": "6a1dc7e7-afe1-4698-a291-31d1d43a4b70"
      },
      "source": [
        "# Test preprocessing\n",
        "def padding(text):\n",
        "\treturn pad_sequences(tokenizer.texts_to_sequences(text), maxlen=MAX_SEQUENCE_LENGTH, padding='post', truncating='post')\n",
        "test_text = test[test.challenge_sequence <= 10].groupby('user_id').challenge.aggregate(lambda x: ' '.join(x)).reset_index()\n",
        "x_test = padding(test_text.challenge)\n",
        "x_test[0]"
      ],
      "execution_count": 93,
      "outputs": [
        {
          "output_type": "execute_result",
          "data": {
            "text/plain": [
              "array([  1,   6,   2,  14,   3,   4,   5,   8, 100,   7], dtype=int32)"
            ]
          },
          "metadata": {
            "tags": []
          },
          "execution_count": 93
        }
      ]
    },
    {
      "cell_type": "code",
      "metadata": {
        "id": "uHxkImTjF4ku",
        "colab_type": "code",
        "colab": {
          "base_uri": "https://localhost:8080/",
          "height": 119
        },
        "outputId": "52cbe6ce-7f44-4af4-c1e7-15de18d90b7a"
      },
      "source": [
        "# Get top 3 predictions for each user\n",
        "pred = model.predict(x_test,batch_size=2048)\n",
        "pred[0][:22]"
      ],
      "execution_count": 94,
      "outputs": [
        {
          "output_type": "execute_result",
          "data": {
            "text/plain": [
              "array([2.6344855e-08, 9.2485898e-05, 2.8877943e-07, 3.7092707e-07,\n",
              "       7.8495354e-08, 3.2324689e-08, 4.8623592e-06, 1.6414221e-07,\n",
              "       2.2800767e-08, 1.4083026e-08, 2.1385722e-08, 1.4037237e-06,\n",
              "       8.6258801e-08, 6.9572308e-09, 4.3195691e-08, 1.5165262e-05,\n",
              "       1.3501943e-07, 1.4278578e-08, 2.1072972e-06, 1.7688754e-08,\n",
              "       8.6547861e-06, 5.0593240e-08], dtype=float32)"
            ]
          },
          "metadata": {
            "tags": []
          },
          "execution_count": 94
        }
      ]
    },
    {
      "cell_type": "code",
      "metadata": {
        "id": "0G9LqIXNf0zb",
        "colab_type": "code",
        "colab": {
          "base_uri": "https://localhost:8080/",
          "height": 221
        },
        "outputId": "adf186fe-daa0-41a1-a772-58e681996d21"
      },
      "source": [
        "#pred = pred.argsort(axis=1)[:,-3:][:,::-1]\n",
        "pred = pred.argsort(axis=1)[:,-3:][:,::-1]\n",
        "pred[:12]"
      ],
      "execution_count": 95,
      "outputs": [
        {
          "output_type": "execute_result",
          "data": {
            "text/plain": [
              "array([[1475,  370,  497],\n",
              "       [1052, 1648,  358],\n",
              "       [3472, 3471, 3473],\n",
              "       [1480,  213, 1049],\n",
              "       [1480, 1664,  185],\n",
              "       [ 370, 1480, 1439],\n",
              "       [ 370,  660,  213],\n",
              "       [2689, 2685, 2687],\n",
              "       [1052, 1475, 1466],\n",
              "       [2685, 2687, 2691],\n",
              "       [2689, 2685, 2690],\n",
              "       [1439, 1480,  213]])"
            ]
          },
          "metadata": {
            "tags": []
          },
          "execution_count": 95
        }
      ]
    },
    {
      "cell_type": "code",
      "metadata": {
        "id": "eBPrQ2z5F4k5",
        "colab_type": "code",
        "colab": {}
      },
      "source": [
        "# Write Predictions\n",
        "df_list = []\n",
        "for i in range(3):\n",
        "\ttest_11 = test_text[['user_id']]\n",
        "\ttest_11['user_sequence'] = test_11.user_id.astype(str) + '_'+str(i+11)\n",
        "\ttest_11['challenge'] = encoder.inverse_transform(pred[:,i])\n",
        "\tdf_list.append(test_11[['user_sequence','challenge']])\n",
        "pd.concat(df_list).to_csv('RNN_submission.csv',index=False)\n"
      ],
      "execution_count": 96,
      "outputs": []
    },
    {
      "cell_type": "code",
      "metadata": {
        "id": "fHuFY5mlJQsN",
        "colab_type": "code",
        "colab": {
          "base_uri": "https://localhost:8080/",
          "height": 419
        },
        "outputId": "4429d5bf-a457-4d68-c0c4-fa5bae7df8b0"
      },
      "source": [
        "df5 = pd.read_csv('/content/RNN_submission.csv')\n",
        "df5"
      ],
      "execution_count": 97,
      "outputs": [
        {
          "output_type": "execute_result",
          "data": {
            "text/html": [
              "<div>\n",
              "<style scoped>\n",
              "    .dataframe tbody tr th:only-of-type {\n",
              "        vertical-align: middle;\n",
              "    }\n",
              "\n",
              "    .dataframe tbody tr th {\n",
              "        vertical-align: top;\n",
              "    }\n",
              "\n",
              "    .dataframe thead th {\n",
              "        text-align: right;\n",
              "    }\n",
              "</style>\n",
              "<table border=\"1\" class=\"dataframe\">\n",
              "  <thead>\n",
              "    <tr style=\"text-align: right;\">\n",
              "      <th></th>\n",
              "      <th>user_sequence</th>\n",
              "      <th>challenge</th>\n",
              "    </tr>\n",
              "  </thead>\n",
              "  <tbody>\n",
              "    <tr>\n",
              "      <th>0</th>\n",
              "      <td>4577_11</td>\n",
              "      <td>CI24953</td>\n",
              "    </tr>\n",
              "    <tr>\n",
              "      <th>1</th>\n",
              "      <td>4578_11</td>\n",
              "      <td>CI24530</td>\n",
              "    </tr>\n",
              "    <tr>\n",
              "      <th>2</th>\n",
              "      <td>4579_11</td>\n",
              "      <td>CI26950</td>\n",
              "    </tr>\n",
              "    <tr>\n",
              "      <th>3</th>\n",
              "      <td>4583_11</td>\n",
              "      <td>CI24958</td>\n",
              "    </tr>\n",
              "    <tr>\n",
              "      <th>4</th>\n",
              "      <td>4584_11</td>\n",
              "      <td>CI24958</td>\n",
              "    </tr>\n",
              "    <tr>\n",
              "      <th>...</th>\n",
              "      <td>...</td>\n",
              "      <td>...</td>\n",
              "    </tr>\n",
              "    <tr>\n",
              "      <th>119191</th>\n",
              "      <td>113829_13</td>\n",
              "      <td>CI24362</td>\n",
              "    </tr>\n",
              "    <tr>\n",
              "      <th>119192</th>\n",
              "      <td>113830_13</td>\n",
              "      <td>CI24866</td>\n",
              "    </tr>\n",
              "    <tr>\n",
              "      <th>119193</th>\n",
              "      <td>113831_13</td>\n",
              "      <td>CI24931</td>\n",
              "    </tr>\n",
              "    <tr>\n",
              "      <th>119194</th>\n",
              "      <td>113834_13</td>\n",
              "      <td>CI25139</td>\n",
              "    </tr>\n",
              "    <tr>\n",
              "      <th>119195</th>\n",
              "      <td>113838_13</td>\n",
              "      <td>CI23836</td>\n",
              "    </tr>\n",
              "  </tbody>\n",
              "</table>\n",
              "<p>119196 rows × 2 columns</p>\n",
              "</div>"
            ],
            "text/plain": [
              "       user_sequence challenge\n",
              "0            4577_11   CI24953\n",
              "1            4578_11   CI24530\n",
              "2            4579_11   CI26950\n",
              "3            4583_11   CI24958\n",
              "4            4584_11   CI24958\n",
              "...              ...       ...\n",
              "119191     113829_13   CI24362\n",
              "119192     113830_13   CI24866\n",
              "119193     113831_13   CI24931\n",
              "119194     113834_13   CI25139\n",
              "119195     113838_13   CI23836\n",
              "\n",
              "[119196 rows x 2 columns]"
            ]
          },
          "metadata": {
            "tags": []
          },
          "execution_count": 97
        }
      ]
    }
  ]
}